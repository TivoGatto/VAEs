{
  "nbformat": 4,
  "nbformat_minor": 0,
  "metadata": {
    "colab": {
      "name": "DRAW.ipynb",
      "provenance": [],
      "collapsed_sections": [],
      "authorship_tag": "ABX9TyN8K6ZmYjGHn8CF5tXZqTIy",
      "include_colab_link": true
    },
    "kernelspec": {
      "name": "python3",
      "display_name": "Python 3"
    },
    "accelerator": "GPU"
  },
  "cells": [
    {
      "cell_type": "markdown",
      "metadata": {
        "id": "view-in-github",
        "colab_type": "text"
      },
      "source": [
        "<a href=\"https://colab.research.google.com/github/TivoGatto/VAEs/blob/master/DRAW.ipynb\" target=\"_parent\"><img src=\"https://colab.research.google.com/assets/colab-badge.svg\" alt=\"Open In Colab\"/></a>"
      ]
    },
    {
      "cell_type": "code",
      "metadata": {
        "id": "gnFX4DE471_e",
        "colab_type": "code",
        "colab": {
          "base_uri": "https://localhost:8080/",
          "height": 34
        },
        "outputId": "cac67a75-2b0c-4ed4-93c8-4894c653b13f"
      },
      "source": [
        "# LIBRARIES\n",
        "import os\n",
        "os.environ['TF_CPP_MIN_LOG_LEVEL'] = '3' \n",
        "import tensorflow as tf\n",
        "\n",
        "import numpy as np\n",
        "import matplotlib.pyplot as plt\n",
        "\n",
        "import keras\n",
        "import tensorflow as tf\n",
        "from keras.datasets import mnist\n",
        "from keras.models import Model\n",
        "from keras.layers import Input, Dense, Lambda, LSTM, Activation, Add, Reshape\n",
        "import keras.backend as K"
      ],
      "execution_count": null,
      "outputs": [
        {
          "output_type": "stream",
          "text": [
            "Using TensorFlow backend.\n"
          ],
          "name": "stderr"
        }
      ]
    },
    {
      "cell_type": "code",
      "metadata": {
        "id": "8QQ9MlP876EO",
        "colab_type": "code",
        "colab": {}
      },
      "source": [
        "# PARAMETERS\n",
        "input_dim = 784\n",
        "intermediate_dim = 256\n",
        "latent_dim = 30\n",
        "\n",
        "T = 10\n",
        "N = 5\n",
        "\n",
        "epochs = 10\n",
        "batch_size = 200\n",
        "epsilon_std = 1.0"
      ],
      "execution_count": null,
      "outputs": []
    },
    {
      "cell_type": "code",
      "metadata": {
        "id": "2JzTyTem78sB",
        "colab_type": "code",
        "colab": {}
      },
      "source": [
        "# FUNCTIONS\n",
        "\n",
        "def draw_loss(x_true, x_pred):\n",
        "\tx_pred = sigm(x_pred) \n",
        "\n",
        "\txent_loss = keras.losses.binary_crossentropy(x_true, x_pred)\n",
        "\treg_loss = 0\n",
        "\n",
        "\tfor t in range(1, T+1):\n",
        "\t\treg_loss += 0.5 * K.sum(K.square(z_mean[t]) + K.exp(z_log_var[t]) - z_log_var[t], 1) - 0.5\n",
        "\n",
        "\treturn K.mean(xent_loss + reg_loss)\n",
        "\n",
        "def Regularizer(x_true, x_pred):\n",
        "\treg_loss = 0\n",
        "\n",
        "\tfor t in range(1, T+1):\n",
        "\t\treg_loss += 0.5 * K.sum(K.square(z_mean[t]) + K.exp(z_log_var[t]) - z_log_var[t], axis=-1) - 0.5\n",
        "\n",
        "\treturn K.mean(reg_loss)\n",
        " \n",
        "def L2(x_true, x_pred):\n",
        "\treturn keras.losses.binary_crossentropy(x_true, x_pred)\n",
        "\n",
        "def Conc(args):\n",
        "\treturn K.concatenate(args, axis=-1)\n",
        "\n",
        "def Sampling(args):\n",
        "\tz_mean, z_log_var = args\n",
        "\tepsilon = K.random_normal(shape=(batch_size, latent_dim), mean=0., stddev=epsilon_std)\n",
        "\n",
        "\treturn z_mean + K.exp(0.5 * z_log_var) * epsilon \n",
        "\n",
        "def Read(args):\n",
        "\tx, x_hat, h_dec = args\n",
        "\n",
        "\treturn conc([x, x_hat])\n",
        "\n",
        "def Write(args):\n",
        "\th_dec = args\n",
        "\n",
        "\treturn Dense(input_dim)(h_dec)\n",
        "\n",
        "def Add_time(args):\n",
        "\treturn K.expand_dims(args, 1)"
      ],
      "execution_count": null,
      "outputs": []
    },
    {
      "cell_type": "code",
      "metadata": {
        "id": "vZlhAK0xGHVG",
        "colab_type": "code",
        "colab": {
          "base_uri": "https://localhost:8080/",
          "height": 1000
        },
        "outputId": "321b384e-7d8d-4e17-f9a3-d1b1327dfa1c"
      },
      "source": [
        "# MODEL\n",
        "\n",
        "sigm = Activation(\"sigmoid\")\n",
        "conc = Lambda(Conc)\n",
        "sampling = Lambda(Sampling)\n",
        "add_time = Lambda(Add_time)\n",
        "\n",
        "\n",
        "read = Lambda(Read)\n",
        "write = Lambda(Write)\n",
        "\n",
        "encoder = LSTM(intermediate_dim, stateful=True)\n",
        "decoder = LSTM(intermediate_dim, stateful=True)\n",
        "\n",
        "x_hat = [0] * (T + 1)\n",
        "r     = [0] * (T + 1)\n",
        "z     = [0] * (T + 1)\n",
        "\n",
        "z_mean = [0] * (T + 1)\n",
        "z_log_var = [0] * (T + 1)\n",
        "\n",
        "h_enc = [0] * (T + 1)\n",
        "h_dec = [0] * (T + 1)\n",
        "C     = [0] * (T + 1)\n",
        "\n",
        "x = Input(shape=(input_dim, ))\n",
        "h_enc_init = Input(tensor=K.zeros(shape=(batch_size,  intermediate_dim)))\n",
        "h_dec_init = Input(tensor=K.zeros(shape=(batch_size,  intermediate_dim)))\n",
        "C_0 = Input(tensor=K.zeros(shape=(batch_size, input_dim)))\n",
        "\n",
        "h_enc[0] = Dense(intermediate_dim)(h_enc_init)\n",
        "h_dec[0] = Dense(intermediate_dim)(h_dec_init)\n",
        "C[0]     = Dense(input_dim)(C_0)\n",
        "\n",
        "for t in range(1, T+1):\n",
        "    x_hat[t] = keras.layers.Subtract()([x, sigm(C[t-1])])\n",
        "    r[t]     = read([x, x_hat[t], h_dec[t-1]])\n",
        "\n",
        "    h_enc[t] = encoder(add_time(conc([h_enc[t-1], r[t], h_dec[t-1]])))\n",
        "\n",
        "    z_mean[t] = Dense(latent_dim)(h_enc[t])\n",
        "    z_log_var[t] = Dense(latent_dim)(h_enc[t])\n",
        "\n",
        "    z[t] = sampling([z_mean[t], z_log_var[t]])\n",
        "\n",
        "    h_dec[t] = decoder(add_time(conc([h_dec[t-1], z[t]])))\n",
        "\n",
        "    C[t] = Add()([C[t-1], write(h_dec[t])])\n",
        "\n",
        "model = Model([x, C_0, h_dec_init, h_enc_init], C[T])\n",
        "\n",
        "optmizers = keras.optimizers.RMSprop()\n",
        "model.compile(optimizer=optmizers, loss=draw_loss, metrics=[L2, Regularizer])\n",
        "\n",
        "print(model.summary())"
      ],
      "execution_count": null,
      "outputs": [
        {
          "output_type": "stream",
          "text": [
            "Model: \"model_6\"\n",
            "__________________________________________________________________________________________________\n",
            "Layer (type)                    Output Shape         Param #     Connected to                     \n",
            "==================================================================================================\n",
            "input_24 (InputLayer)           (200, 784)           0                                            \n",
            "__________________________________________________________________________________________________\n",
            "dense_218 (Dense)               (200, 784)           615440      input_24[0][0]                   \n",
            "__________________________________________________________________________________________________\n",
            "input_23 (InputLayer)           (200, 256)           0                                            \n",
            "__________________________________________________________________________________________________\n",
            "input_21 (InputLayer)           (None, 784)          0                                            \n",
            "__________________________________________________________________________________________________\n",
            "activation_6 (Activation)       (200, 784)           0           dense_218[0][0]                  \n",
            "                                                                 add_51[0][0]                     \n",
            "                                                                 add_52[0][0]                     \n",
            "                                                                 add_53[0][0]                     \n",
            "                                                                 add_54[0][0]                     \n",
            "                                                                 add_55[0][0]                     \n",
            "                                                                 add_56[0][0]                     \n",
            "                                                                 add_57[0][0]                     \n",
            "                                                                 add_58[0][0]                     \n",
            "                                                                 add_59[0][0]                     \n",
            "__________________________________________________________________________________________________\n",
            "dense_217 (Dense)               (200, 256)           65792       input_23[0][0]                   \n",
            "__________________________________________________________________________________________________\n",
            "input_22 (InputLayer)           (200, 256)           0                                            \n",
            "__________________________________________________________________________________________________\n",
            "subtract_51 (Subtract)          (200, 784)           0           input_21[0][0]                   \n",
            "                                                                 activation_6[0][0]               \n",
            "__________________________________________________________________________________________________\n",
            "dense_216 (Dense)               (200, 256)           65792       input_22[0][0]                   \n",
            "__________________________________________________________________________________________________\n",
            "lambda_29 (Lambda)              (200, 1568)          0           input_21[0][0]                   \n",
            "                                                                 subtract_51[0][0]                \n",
            "                                                                 dense_217[0][0]                  \n",
            "                                                                 input_21[0][0]                   \n",
            "                                                                 subtract_52[0][0]                \n",
            "                                                                 lstm_12[0][0]                    \n",
            "                                                                 input_21[0][0]                   \n",
            "                                                                 subtract_53[0][0]                \n",
            "                                                                 lstm_12[1][0]                    \n",
            "                                                                 input_21[0][0]                   \n",
            "                                                                 subtract_54[0][0]                \n",
            "                                                                 lstm_12[2][0]                    \n",
            "                                                                 input_21[0][0]                   \n",
            "                                                                 subtract_55[0][0]                \n",
            "                                                                 lstm_12[3][0]                    \n",
            "                                                                 input_21[0][0]                   \n",
            "                                                                 subtract_56[0][0]                \n",
            "                                                                 lstm_12[4][0]                    \n",
            "                                                                 input_21[0][0]                   \n",
            "                                                                 subtract_57[0][0]                \n",
            "                                                                 lstm_12[5][0]                    \n",
            "                                                                 input_21[0][0]                   \n",
            "                                                                 subtract_58[0][0]                \n",
            "                                                                 lstm_12[6][0]                    \n",
            "                                                                 input_21[0][0]                   \n",
            "                                                                 subtract_59[0][0]                \n",
            "                                                                 lstm_12[7][0]                    \n",
            "                                                                 input_21[0][0]                   \n",
            "                                                                 subtract_60[0][0]                \n",
            "                                                                 lstm_12[8][0]                    \n",
            "__________________________________________________________________________________________________\n",
            "lambda_26 (Lambda)              multiple             0           dense_216[0][0]                  \n",
            "                                                                 lambda_29[0][0]                  \n",
            "                                                                 dense_217[0][0]                  \n",
            "                                                                 dense_217[0][0]                  \n",
            "                                                                 lambda_27[0][0]                  \n",
            "                                                                 lstm_11[0][0]                    \n",
            "                                                                 lambda_29[1][0]                  \n",
            "                                                                 lstm_12[0][0]                    \n",
            "                                                                 lstm_12[0][0]                    \n",
            "                                                                 lambda_27[1][0]                  \n",
            "                                                                 lstm_11[1][0]                    \n",
            "                                                                 lambda_29[2][0]                  \n",
            "                                                                 lstm_12[1][0]                    \n",
            "                                                                 lstm_12[1][0]                    \n",
            "                                                                 lambda_27[2][0]                  \n",
            "                                                                 lstm_11[2][0]                    \n",
            "                                                                 lambda_29[3][0]                  \n",
            "                                                                 lstm_12[2][0]                    \n",
            "                                                                 lstm_12[2][0]                    \n",
            "                                                                 lambda_27[3][0]                  \n",
            "                                                                 lstm_11[3][0]                    \n",
            "                                                                 lambda_29[4][0]                  \n",
            "                                                                 lstm_12[3][0]                    \n",
            "                                                                 lstm_12[3][0]                    \n",
            "                                                                 lambda_27[4][0]                  \n",
            "                                                                 lstm_11[4][0]                    \n",
            "                                                                 lambda_29[5][0]                  \n",
            "                                                                 lstm_12[4][0]                    \n",
            "                                                                 lstm_12[4][0]                    \n",
            "                                                                 lambda_27[5][0]                  \n",
            "                                                                 lstm_11[5][0]                    \n",
            "                                                                 lambda_29[6][0]                  \n",
            "                                                                 lstm_12[5][0]                    \n",
            "                                                                 lstm_12[5][0]                    \n",
            "                                                                 lambda_27[6][0]                  \n",
            "                                                                 lstm_11[6][0]                    \n",
            "                                                                 lambda_29[7][0]                  \n",
            "                                                                 lstm_12[6][0]                    \n",
            "                                                                 lstm_12[6][0]                    \n",
            "                                                                 lambda_27[7][0]                  \n",
            "                                                                 lstm_11[7][0]                    \n",
            "                                                                 lambda_29[8][0]                  \n",
            "                                                                 lstm_12[7][0]                    \n",
            "                                                                 lstm_12[7][0]                    \n",
            "                                                                 lambda_27[8][0]                  \n",
            "                                                                 lstm_11[8][0]                    \n",
            "                                                                 lambda_29[9][0]                  \n",
            "                                                                 lstm_12[8][0]                    \n",
            "                                                                 lstm_12[8][0]                    \n",
            "                                                                 lambda_27[9][0]                  \n",
            "__________________________________________________________________________________________________\n",
            "lambda_28 (Lambda)              multiple             0           lambda_26[2][0]                  \n",
            "                                                                 lambda_26[3][0]                  \n",
            "                                                                 lambda_26[6][0]                  \n",
            "                                                                 lambda_26[7][0]                  \n",
            "                                                                 lambda_26[10][0]                 \n",
            "                                                                 lambda_26[11][0]                 \n",
            "                                                                 lambda_26[14][0]                 \n",
            "                                                                 lambda_26[15][0]                 \n",
            "                                                                 lambda_26[18][0]                 \n",
            "                                                                 lambda_26[19][0]                 \n",
            "                                                                 lambda_26[22][0]                 \n",
            "                                                                 lambda_26[23][0]                 \n",
            "                                                                 lambda_26[26][0]                 \n",
            "                                                                 lambda_26[27][0]                 \n",
            "                                                                 lambda_26[30][0]                 \n",
            "                                                                 lambda_26[31][0]                 \n",
            "                                                                 lambda_26[34][0]                 \n",
            "                                                                 lambda_26[35][0]                 \n",
            "                                                                 lambda_26[38][0]                 \n",
            "                                                                 lambda_26[39][0]                 \n",
            "__________________________________________________________________________________________________\n",
            "lstm_11 (LSTM)                  (200, 256)           2393088     lambda_28[0][0]                  \n",
            "                                                                 lambda_28[2][0]                  \n",
            "                                                                 lambda_28[4][0]                  \n",
            "                                                                 lambda_28[6][0]                  \n",
            "                                                                 lambda_28[8][0]                  \n",
            "                                                                 lambda_28[10][0]                 \n",
            "                                                                 lambda_28[12][0]                 \n",
            "                                                                 lambda_28[14][0]                 \n",
            "                                                                 lambda_28[16][0]                 \n",
            "                                                                 lambda_28[18][0]                 \n",
            "__________________________________________________________________________________________________\n",
            "dense_219 (Dense)               (200, 30)            7710        lstm_11[0][0]                    \n",
            "__________________________________________________________________________________________________\n",
            "dense_220 (Dense)               (200, 30)            7710        lstm_11[0][0]                    \n",
            "__________________________________________________________________________________________________\n",
            "lambda_27 (Lambda)              (200, 30)            0           dense_219[0][0]                  \n",
            "                                                                 dense_220[0][0]                  \n",
            "                                                                 dense_223[0][0]                  \n",
            "                                                                 dense_224[0][0]                  \n",
            "                                                                 dense_227[0][0]                  \n",
            "                                                                 dense_228[0][0]                  \n",
            "                                                                 dense_231[0][0]                  \n",
            "                                                                 dense_232[0][0]                  \n",
            "                                                                 dense_235[0][0]                  \n",
            "                                                                 dense_236[0][0]                  \n",
            "                                                                 dense_239[0][0]                  \n",
            "                                                                 dense_240[0][0]                  \n",
            "                                                                 dense_243[0][0]                  \n",
            "                                                                 dense_244[0][0]                  \n",
            "                                                                 dense_247[0][0]                  \n",
            "                                                                 dense_248[0][0]                  \n",
            "                                                                 dense_251[0][0]                  \n",
            "                                                                 dense_252[0][0]                  \n",
            "                                                                 dense_255[0][0]                  \n",
            "                                                                 dense_256[0][0]                  \n",
            "__________________________________________________________________________________________________\n",
            "lstm_12 (LSTM)                  (200, 256)           556032      lambda_28[1][0]                  \n",
            "                                                                 lambda_28[3][0]                  \n",
            "                                                                 lambda_28[5][0]                  \n",
            "                                                                 lambda_28[7][0]                  \n",
            "                                                                 lambda_28[9][0]                  \n",
            "                                                                 lambda_28[11][0]                 \n",
            "                                                                 lambda_28[13][0]                 \n",
            "                                                                 lambda_28[15][0]                 \n",
            "                                                                 lambda_28[17][0]                 \n",
            "                                                                 lambda_28[19][0]                 \n",
            "__________________________________________________________________________________________________\n",
            "lambda_30 (Lambda)              (200, 784)           0           lstm_12[0][0]                    \n",
            "                                                                 lstm_12[1][0]                    \n",
            "                                                                 lstm_12[2][0]                    \n",
            "                                                                 lstm_12[3][0]                    \n",
            "                                                                 lstm_12[4][0]                    \n",
            "                                                                 lstm_12[5][0]                    \n",
            "                                                                 lstm_12[6][0]                    \n",
            "                                                                 lstm_12[7][0]                    \n",
            "                                                                 lstm_12[8][0]                    \n",
            "                                                                 lstm_12[9][0]                    \n",
            "__________________________________________________________________________________________________\n",
            "add_51 (Add)                    (200, 784)           0           dense_218[0][0]                  \n",
            "                                                                 lambda_30[0][0]                  \n",
            "__________________________________________________________________________________________________\n",
            "subtract_52 (Subtract)          (200, 784)           0           input_21[0][0]                   \n",
            "                                                                 activation_6[1][0]               \n",
            "__________________________________________________________________________________________________\n",
            "dense_223 (Dense)               (200, 30)            7710        lstm_11[1][0]                    \n",
            "__________________________________________________________________________________________________\n",
            "dense_224 (Dense)               (200, 30)            7710        lstm_11[1][0]                    \n",
            "__________________________________________________________________________________________________\n",
            "add_52 (Add)                    (200, 784)           0           add_51[0][0]                     \n",
            "                                                                 lambda_30[1][0]                  \n",
            "__________________________________________________________________________________________________\n",
            "subtract_53 (Subtract)          (200, 784)           0           input_21[0][0]                   \n",
            "                                                                 activation_6[2][0]               \n",
            "__________________________________________________________________________________________________\n",
            "dense_227 (Dense)               (200, 30)            7710        lstm_11[2][0]                    \n",
            "__________________________________________________________________________________________________\n",
            "dense_228 (Dense)               (200, 30)            7710        lstm_11[2][0]                    \n",
            "__________________________________________________________________________________________________\n",
            "add_53 (Add)                    (200, 784)           0           add_52[0][0]                     \n",
            "                                                                 lambda_30[2][0]                  \n",
            "__________________________________________________________________________________________________\n",
            "subtract_54 (Subtract)          (200, 784)           0           input_21[0][0]                   \n",
            "                                                                 activation_6[3][0]               \n",
            "__________________________________________________________________________________________________\n",
            "dense_231 (Dense)               (200, 30)            7710        lstm_11[3][0]                    \n",
            "__________________________________________________________________________________________________\n",
            "dense_232 (Dense)               (200, 30)            7710        lstm_11[3][0]                    \n",
            "__________________________________________________________________________________________________\n",
            "add_54 (Add)                    (200, 784)           0           add_53[0][0]                     \n",
            "                                                                 lambda_30[3][0]                  \n",
            "__________________________________________________________________________________________________\n",
            "subtract_55 (Subtract)          (200, 784)           0           input_21[0][0]                   \n",
            "                                                                 activation_6[4][0]               \n",
            "__________________________________________________________________________________________________\n",
            "dense_235 (Dense)               (200, 30)            7710        lstm_11[4][0]                    \n",
            "__________________________________________________________________________________________________\n",
            "dense_236 (Dense)               (200, 30)            7710        lstm_11[4][0]                    \n",
            "__________________________________________________________________________________________________\n",
            "add_55 (Add)                    (200, 784)           0           add_54[0][0]                     \n",
            "                                                                 lambda_30[4][0]                  \n",
            "__________________________________________________________________________________________________\n",
            "subtract_56 (Subtract)          (200, 784)           0           input_21[0][0]                   \n",
            "                                                                 activation_6[5][0]               \n",
            "__________________________________________________________________________________________________\n",
            "dense_239 (Dense)               (200, 30)            7710        lstm_11[5][0]                    \n",
            "__________________________________________________________________________________________________\n",
            "dense_240 (Dense)               (200, 30)            7710        lstm_11[5][0]                    \n",
            "__________________________________________________________________________________________________\n",
            "add_56 (Add)                    (200, 784)           0           add_55[0][0]                     \n",
            "                                                                 lambda_30[5][0]                  \n",
            "__________________________________________________________________________________________________\n",
            "subtract_57 (Subtract)          (200, 784)           0           input_21[0][0]                   \n",
            "                                                                 activation_6[6][0]               \n",
            "__________________________________________________________________________________________________\n",
            "dense_243 (Dense)               (200, 30)            7710        lstm_11[6][0]                    \n",
            "__________________________________________________________________________________________________\n",
            "dense_244 (Dense)               (200, 30)            7710        lstm_11[6][0]                    \n",
            "__________________________________________________________________________________________________\n",
            "add_57 (Add)                    (200, 784)           0           add_56[0][0]                     \n",
            "                                                                 lambda_30[6][0]                  \n",
            "__________________________________________________________________________________________________\n",
            "subtract_58 (Subtract)          (200, 784)           0           input_21[0][0]                   \n",
            "                                                                 activation_6[7][0]               \n",
            "__________________________________________________________________________________________________\n",
            "dense_247 (Dense)               (200, 30)            7710        lstm_11[7][0]                    \n",
            "__________________________________________________________________________________________________\n",
            "dense_248 (Dense)               (200, 30)            7710        lstm_11[7][0]                    \n",
            "__________________________________________________________________________________________________\n",
            "add_58 (Add)                    (200, 784)           0           add_57[0][0]                     \n",
            "                                                                 lambda_30[7][0]                  \n",
            "__________________________________________________________________________________________________\n",
            "subtract_59 (Subtract)          (200, 784)           0           input_21[0][0]                   \n",
            "                                                                 activation_6[8][0]               \n",
            "__________________________________________________________________________________________________\n",
            "dense_251 (Dense)               (200, 30)            7710        lstm_11[8][0]                    \n",
            "__________________________________________________________________________________________________\n",
            "dense_252 (Dense)               (200, 30)            7710        lstm_11[8][0]                    \n",
            "__________________________________________________________________________________________________\n",
            "add_59 (Add)                    (200, 784)           0           add_58[0][0]                     \n",
            "                                                                 lambda_30[8][0]                  \n",
            "__________________________________________________________________________________________________\n",
            "subtract_60 (Subtract)          (200, 784)           0           input_21[0][0]                   \n",
            "                                                                 activation_6[9][0]               \n",
            "__________________________________________________________________________________________________\n",
            "dense_255 (Dense)               (200, 30)            7710        lstm_11[9][0]                    \n",
            "__________________________________________________________________________________________________\n",
            "dense_256 (Dense)               (200, 30)            7710        lstm_11[9][0]                    \n",
            "__________________________________________________________________________________________________\n",
            "add_60 (Add)                    (200, 784)           0           add_59[0][0]                     \n",
            "                                                                 lambda_30[9][0]                  \n",
            "==================================================================================================\n",
            "Total params: 3,850,344\n",
            "Trainable params: 3,850,344\n",
            "Non-trainable params: 0\n",
            "__________________________________________________________________________________________________\n",
            "None\n"
          ],
          "name": "stdout"
        }
      ]
    },
    {
      "cell_type": "code",
      "metadata": {
        "id": "FmRgN9dM8AJU",
        "colab_type": "code",
        "colab": {}
      },
      "source": [
        "# MODEL\n",
        "\n",
        "#sigm = Activation(\"sigmoid\")\n",
        "#conc = Lambda(Conc)\n",
        "#sampling = Lambda(Sampling)\n",
        "\n",
        "#read = Lambda(Read)\n",
        "#write = Lambda(Write)\n",
        "\n",
        "#encoder = LSTM(latent_dim)\n",
        "#decoder = LSTM(input_dim)\n",
        "\n",
        "#x = Input(shape=(input_dim, ))\n",
        "#h_enc_init = Input(tensor=K.zeros(shape=(batch_size, latent_dim, )))\n",
        "#h_dec_init = Input(tensor=K.zeros(shape=(batch_size, latent_dim, )))\n",
        "#C_0 = Input(tensor=K.zeros(shape=(batch_size, input_dim, )))\n",
        "\n",
        "#h_enc = Dense(latent_dim)(h_enc_init)\n",
        "#h_dec = Dense(input_dim)(h_dec_init)\n",
        "#C_t   = Dense(input_dim)(C_0)\n",
        "\n",
        "#kl = []\n",
        "#for t in range(T):\n",
        "#    x_hat = keras.layers.Subtract()([x, C_t])\n",
        "#    r_t = read([x, x_hat])\n",
        "\n",
        "#    info = conc([r_t, h_dec])\n",
        "#    info = keras.layers.Reshape((-1, K.int_shape(h_dec)[1] + K.int_shape(r_t)[1]))(info)\n",
        "#    h_enc = encoder(info)\n",
        "\n",
        "#    z_mean = Dense(latent_dim)(h_enc)\n",
        "#    z_log_var = Dense(latent_dim)(h_enc)\n",
        "\n",
        "#    z = sampling([z_mean, z_log_var])\n",
        "\n",
        "#    z_reshaped = keras.layers.Reshape((1, latent_dim))(z)\n",
        "#    h_dec = decoder(z_reshaped)\n",
        "\n",
        "#    C_t = keras.layers.Add()([C_t, write(h_dec)])\n",
        "#    kl.append(0.5 * K.sum(K.square(z_mean) + K.exp(z_log_var) - 1 - z_log_var, axis=-1))\n",
        "\n",
        "\n",
        "#model = Model([x, C_0, h_dec_init, h_enc_init], C_t)\n",
        "#model.compile(optimizer='adam', loss=draw_loss, metrics=[L2, Regularizer])"
      ],
      "execution_count": null,
      "outputs": []
    },
    {
      "cell_type": "code",
      "metadata": {
        "id": "Avo24-QR96i3",
        "colab_type": "code",
        "colab": {
          "base_uri": "https://localhost:8080/",
          "height": 50
        },
        "outputId": "19cc91c5-02a3-43ad-97c6-2faa94e93dad"
      },
      "source": [
        "# IMPORT DATA\n",
        "(x_train, y_train), (x_test, y_test) = mnist.load_data()\n",
        "\n",
        "x_train = x_train.astype('float32')\n",
        "x_test = x_test.astype('float32')\n",
        "\n",
        "x_train = np.reshape(x_train, (-1, input_dim))/255\n",
        "x_test = np.reshape(x_test, (-1, input_dim))/255\n",
        "\n",
        "print(x_train.shape)\n",
        "print(x_test.shape)"
      ],
      "execution_count": null,
      "outputs": [
        {
          "output_type": "stream",
          "text": [
            "(60000, 784)\n",
            "(10000, 784)\n"
          ],
          "name": "stdout"
        }
      ]
    },
    {
      "cell_type": "code",
      "metadata": {
        "id": "JER6l5Tr-O5d",
        "colab_type": "code",
        "colab": {
          "base_uri": "https://localhost:8080/",
          "height": 50
        },
        "outputId": "283c8cdb-9c4a-4edb-873f-30ad575f748c"
      },
      "source": [
        "model.fit(x_train, x_train, batch_size=batch_size, epochs=epochs)"
      ],
      "execution_count": null,
      "outputs": [
        {
          "output_type": "stream",
          "text": [
            "Epoch 1/10\n",
            "26000/60000 [============>.................] - ETA: 10s - loss: 145.4684 - L2: 1.6952 - Regularizer: 145.0605"
          ],
          "name": "stdout"
        }
      ]
    },
    {
      "cell_type": "code",
      "metadata": {
        "id": "EMy6Qv-TDHpb",
        "colab_type": "code",
        "colab": {
          "base_uri": "https://localhost:8080/",
          "height": 1000
        },
        "outputId": "5e91a9bf-27c4-4cf0-da70-9e34488e524a"
      },
      "source": [
        "x_recon = model.predict(x_train, batch_size=batch_size)\n",
        "x_recon = 1 / (1 + np.exp(-x_recon))\n",
        "\n",
        "\n",
        "for i in range(5):\n",
        "    X_recon = x_recon[i]\n",
        "    X_recon = np.reshape(X_recon, (28, 28))\n",
        "\n",
        "    plt.imshow(X_recon, cmap='gray')\n",
        "    plt.show()"
      ],
      "execution_count": null,
      "outputs": [
        {
          "output_type": "display_data",
          "data": {
            "image/png": "[encoded data removed]",
            "text/plain": [
              "<Figure size 432x288 with 1 Axes>"
            ]
          },
          "metadata": {
            "tags": [],
            "needs_background": "light"
          }
        },
        {
          "output_type": "display_data",
          "data": {
            "image/png": "[encoded data removed]",
            "text/plain": [
              "<Figure size 432x288 with 1 Axes>"
            ]
          },
          "metadata": {
            "tags": [],
            "needs_background": "light"
          }
        },
        {
          "output_type": "display_data",
          "data": {
            "image/png": "[encoded data removed]",
            "text/plain": [
              "<Figure size 432x288 with 1 Axes>"
            ]
          },
          "metadata": {
            "tags": [],
            "needs_background": "light"
          }
        },
        {
          "output_type": "display_data",
          "data": {
            "image/png": "[encoded data removed]",
            "text/plain": [
              "<Figure size 432x288 with 1 Axes>"
            ]
          },
          "metadata": {
            "tags": [],
            "needs_background": "light"
          }
        },
        {
          "output_type": "display_data",
          "data": {
            "image/png": "[encoded data removed]",
            "text/plain": [
              "<Figure size 432x288 with 1 Axes>"
            ]
          },
          "metadata": {
            "tags": [],
            "needs_background": "light"
          }
        }
      ]
    },
    {
      "cell_type": "code",
      "metadata": {
        "id": "Kznp1oRFvX7M",
        "colab_type": "code",
        "colab": {
          "base_uri": "https://localhost:8080/",
          "height": 370
        },
        "outputId": "d95a0332-23ca-456c-f672-b6532e78495e"
      },
      "source": [
        "n = 10\n",
        "\n",
        "C_0 = Input(tensor=K.zeros(shape=(n, input_dim)))\n",
        "Z_t = Input(shape=(T, latent_dim))\n",
        "\n",
        "C_t = Dense(input_dim)(C_0)\n",
        "h_dec = decoder(Z_t)\n",
        "C_t = keras.layers.Add()([C_t, write(h_dec)])\n",
        "\n",
        "generator = Model([Z_t, C_0], C_t)\n",
        "\n",
        "z_t = np.random.normal(size=(n, T, latent_dim))\n",
        "x_gen = generator.predict(z_t)\n",
        "\n",
        "x_gen = np.reshape(x_gen, (n, 28, 28))\n",
        "\n",
        "for i in x_gen:\n",
        "    plt.imshow(i, cmap='gray')\n",
        "    plt.show()"
      ],
      "execution_count": null,
      "outputs": [
        {
          "output_type": "error",
          "ename": "ValueError",
          "evalue": "ignored",
          "traceback": [
            "\u001b[0;31m---------------------------------------------------------------------------\u001b[0m",
            "\u001b[0;31mValueError\u001b[0m                                Traceback (most recent call last)",
            "\u001b[0;32m<ipython-input-45-5718b3c7d927>\u001b[0m in \u001b[0;36m<module>\u001b[0;34m()\u001b[0m\n\u001b[1;32m      5\u001b[0m \u001b[0;34m\u001b[0m\u001b[0m\n\u001b[1;32m      6\u001b[0m \u001b[0mC_t\u001b[0m \u001b[0;34m=\u001b[0m \u001b[0mDense\u001b[0m\u001b[0;34m(\u001b[0m\u001b[0minput_dim\u001b[0m\u001b[0;34m)\u001b[0m\u001b[0;34m(\u001b[0m\u001b[0mC_0\u001b[0m\u001b[0;34m)\u001b[0m\u001b[0;34m\u001b[0m\u001b[0;34m\u001b[0m\u001b[0m\n\u001b[0;32m----> 7\u001b[0;31m \u001b[0mh_dec\u001b[0m \u001b[0;34m=\u001b[0m \u001b[0mdecoder\u001b[0m\u001b[0;34m(\u001b[0m\u001b[0mZ_t\u001b[0m\u001b[0;34m)\u001b[0m\u001b[0;34m\u001b[0m\u001b[0;34m\u001b[0m\u001b[0m\n\u001b[0m\u001b[1;32m      8\u001b[0m \u001b[0mC_t\u001b[0m \u001b[0;34m=\u001b[0m \u001b[0mkeras\u001b[0m\u001b[0;34m.\u001b[0m\u001b[0mlayers\u001b[0m\u001b[0;34m.\u001b[0m\u001b[0mAdd\u001b[0m\u001b[0;34m(\u001b[0m\u001b[0;34m)\u001b[0m\u001b[0;34m(\u001b[0m\u001b[0;34m[\u001b[0m\u001b[0mC_t\u001b[0m\u001b[0;34m,\u001b[0m \u001b[0mwrite\u001b[0m\u001b[0;34m(\u001b[0m\u001b[0mh_dec\u001b[0m\u001b[0;34m)\u001b[0m\u001b[0;34m]\u001b[0m\u001b[0;34m)\u001b[0m\u001b[0;34m\u001b[0m\u001b[0;34m\u001b[0m\u001b[0m\n\u001b[1;32m      9\u001b[0m \u001b[0;34m\u001b[0m\u001b[0m\n",
            "\u001b[0;32m/usr/local/lib/python3.6/dist-packages/keras/layers/recurrent.py\u001b[0m in \u001b[0;36m__call__\u001b[0;34m(self, inputs, initial_state, constants, **kwargs)\u001b[0m\n\u001b[1;32m    539\u001b[0m \u001b[0;34m\u001b[0m\u001b[0m\n\u001b[1;32m    540\u001b[0m         \u001b[0;32mif\u001b[0m \u001b[0minitial_state\u001b[0m \u001b[0;32mis\u001b[0m \u001b[0;32mNone\u001b[0m \u001b[0;32mand\u001b[0m \u001b[0mconstants\u001b[0m \u001b[0;32mis\u001b[0m \u001b[0;32mNone\u001b[0m\u001b[0;34m:\u001b[0m\u001b[0;34m\u001b[0m\u001b[0;34m\u001b[0m\u001b[0m\n\u001b[0;32m--> 541\u001b[0;31m             \u001b[0;32mreturn\u001b[0m \u001b[0msuper\u001b[0m\u001b[0;34m(\u001b[0m\u001b[0mRNN\u001b[0m\u001b[0;34m,\u001b[0m \u001b[0mself\u001b[0m\u001b[0;34m)\u001b[0m\u001b[0;34m.\u001b[0m\u001b[0m__call__\u001b[0m\u001b[0;34m(\u001b[0m\u001b[0minputs\u001b[0m\u001b[0;34m,\u001b[0m \u001b[0;34m**\u001b[0m\u001b[0mkwargs\u001b[0m\u001b[0;34m)\u001b[0m\u001b[0;34m\u001b[0m\u001b[0;34m\u001b[0m\u001b[0m\n\u001b[0m\u001b[1;32m    542\u001b[0m \u001b[0;34m\u001b[0m\u001b[0m\n\u001b[1;32m    543\u001b[0m         \u001b[0;31m# If any of `initial_state` or `constants` are specified and are Keras\u001b[0m\u001b[0;34m\u001b[0m\u001b[0;34m\u001b[0m\u001b[0;34m\u001b[0m\u001b[0m\n",
            "\u001b[0;32m/usr/local/lib/python3.6/dist-packages/keras/backend/tensorflow_backend.py\u001b[0m in \u001b[0;36msymbolic_fn_wrapper\u001b[0;34m(*args, **kwargs)\u001b[0m\n\u001b[1;32m     73\u001b[0m         \u001b[0;32mif\u001b[0m \u001b[0m_SYMBOLIC_SCOPE\u001b[0m\u001b[0;34m.\u001b[0m\u001b[0mvalue\u001b[0m\u001b[0;34m:\u001b[0m\u001b[0;34m\u001b[0m\u001b[0;34m\u001b[0m\u001b[0m\n\u001b[1;32m     74\u001b[0m             \u001b[0;32mwith\u001b[0m \u001b[0mget_graph\u001b[0m\u001b[0;34m(\u001b[0m\u001b[0;34m)\u001b[0m\u001b[0;34m.\u001b[0m\u001b[0mas_default\u001b[0m\u001b[0;34m(\u001b[0m\u001b[0;34m)\u001b[0m\u001b[0;34m:\u001b[0m\u001b[0;34m\u001b[0m\u001b[0;34m\u001b[0m\u001b[0m\n\u001b[0;32m---> 75\u001b[0;31m                 \u001b[0;32mreturn\u001b[0m \u001b[0mfunc\u001b[0m\u001b[0;34m(\u001b[0m\u001b[0;34m*\u001b[0m\u001b[0margs\u001b[0m\u001b[0;34m,\u001b[0m \u001b[0;34m**\u001b[0m\u001b[0mkwargs\u001b[0m\u001b[0;34m)\u001b[0m\u001b[0;34m\u001b[0m\u001b[0;34m\u001b[0m\u001b[0m\n\u001b[0m\u001b[1;32m     76\u001b[0m         \u001b[0;32melse\u001b[0m\u001b[0;34m:\u001b[0m\u001b[0;34m\u001b[0m\u001b[0;34m\u001b[0m\u001b[0m\n\u001b[1;32m     77\u001b[0m             \u001b[0;32mreturn\u001b[0m \u001b[0mfunc\u001b[0m\u001b[0;34m(\u001b[0m\u001b[0;34m*\u001b[0m\u001b[0margs\u001b[0m\u001b[0;34m,\u001b[0m \u001b[0;34m**\u001b[0m\u001b[0mkwargs\u001b[0m\u001b[0;34m)\u001b[0m\u001b[0;34m\u001b[0m\u001b[0;34m\u001b[0m\u001b[0m\n",
            "\u001b[0;32m/usr/local/lib/python3.6/dist-packages/keras/engine/base_layer.py\u001b[0m in \u001b[0;36m__call__\u001b[0;34m(self, inputs, **kwargs)\u001b[0m\n\u001b[1;32m    470\u001b[0m             \u001b[0;31m# Raise exceptions in case the input is not compatible\u001b[0m\u001b[0;34m\u001b[0m\u001b[0;34m\u001b[0m\u001b[0;34m\u001b[0m\u001b[0m\n\u001b[1;32m    471\u001b[0m             \u001b[0;31m# with the input_spec set at build time.\u001b[0m\u001b[0;34m\u001b[0m\u001b[0;34m\u001b[0m\u001b[0;34m\u001b[0m\u001b[0m\n\u001b[0;32m--> 472\u001b[0;31m             \u001b[0mself\u001b[0m\u001b[0;34m.\u001b[0m\u001b[0massert_input_compatibility\u001b[0m\u001b[0;34m(\u001b[0m\u001b[0minputs\u001b[0m\u001b[0;34m)\u001b[0m\u001b[0;34m\u001b[0m\u001b[0;34m\u001b[0m\u001b[0m\n\u001b[0m\u001b[1;32m    473\u001b[0m \u001b[0;34m\u001b[0m\u001b[0m\n\u001b[1;32m    474\u001b[0m             \u001b[0;31m# Handle mask propagation.\u001b[0m\u001b[0;34m\u001b[0m\u001b[0;34m\u001b[0m\u001b[0;34m\u001b[0m\u001b[0m\n",
            "\u001b[0;32m/usr/local/lib/python3.6/dist-packages/keras/engine/base_layer.py\u001b[0m in \u001b[0;36massert_input_compatibility\u001b[0;34m(self, inputs)\u001b[0m\n\u001b[1;32m    397\u001b[0m                                     \u001b[0mself\u001b[0m\u001b[0;34m.\u001b[0m\u001b[0mname\u001b[0m \u001b[0;34m+\u001b[0m \u001b[0;34m': expected shape='\u001b[0m \u001b[0;34m+\u001b[0m\u001b[0;34m\u001b[0m\u001b[0;34m\u001b[0m\u001b[0m\n\u001b[1;32m    398\u001b[0m                                     \u001b[0mstr\u001b[0m\u001b[0;34m(\u001b[0m\u001b[0mspec\u001b[0m\u001b[0;34m.\u001b[0m\u001b[0mshape\u001b[0m\u001b[0;34m)\u001b[0m \u001b[0;34m+\u001b[0m \u001b[0;34m', found shape='\u001b[0m \u001b[0;34m+\u001b[0m\u001b[0;34m\u001b[0m\u001b[0;34m\u001b[0m\u001b[0m\n\u001b[0;32m--> 399\u001b[0;31m                                     str(x_shape))\n\u001b[0m\u001b[1;32m    400\u001b[0m \u001b[0;34m\u001b[0m\u001b[0m\n\u001b[1;32m    401\u001b[0m     \u001b[0;32mdef\u001b[0m \u001b[0mcall\u001b[0m\u001b[0;34m(\u001b[0m\u001b[0mself\u001b[0m\u001b[0;34m,\u001b[0m \u001b[0minputs\u001b[0m\u001b[0;34m,\u001b[0m \u001b[0;34m**\u001b[0m\u001b[0mkwargs\u001b[0m\u001b[0;34m)\u001b[0m\u001b[0;34m:\u001b[0m\u001b[0;34m\u001b[0m\u001b[0;34m\u001b[0m\u001b[0m\n",
            "\u001b[0;31mValueError\u001b[0m: Input 0 is incompatible with layer lstm_22: expected shape=(None, None, 786), found shape=(None, 10, 2)"
          ]
        }
      ]
    }
  ]
}